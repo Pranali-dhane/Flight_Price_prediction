{
 "cells": [
  {
   "cell_type": "markdown",
   "id": "d7b3944e-4d97-4b54-8db7-9813b36cf371",
   "metadata": {},
   "source": [
    "# Flight Price Prediction"
   ]
  },
  {
   "cell_type": "markdown",
   "id": "7c833763-9845-487f-a753-78da27bb45c3",
   "metadata": {},
   "source": [
    "## * Import libraries  "
   ]
  },
  {
   "cell_type": "code",
   "execution_count": 31,
   "id": "54e3b424-ab02-4a24-a437-bb0af2306cc6",
   "metadata": {},
   "outputs": [],
   "source": [
    "import numpy as np \n",
    "import pandas as pd\n",
    "import os\n",
    "import seaborn as sns\n",
    "import matplotlib.pyplot as plt\n",
    "from sklearn.cluster import KMeans\n",
    "from sklearn.preprocessing import MinMaxScaler"
   ]
  },
  {
   "cell_type": "markdown",
   "id": "a4171531-d183-4f8c-bb39-8fa296aae23e",
   "metadata": {},
   "source": [
    "## Preprocessing of data & EDA "
   ]
  },
  {
   "cell_type": "code",
   "execution_count": 33,
   "id": "cde3248d-5c04-42f0-8fab-7bf87c476243",
   "metadata": {},
   "outputs": [],
   "source": [
    "df = pd.read_csv(r\"C:\\Users\\prana\\Downloads\\Clean_Dataset.csv.zip\")"
   ]
  },
  {
   "cell_type": "code",
   "execution_count": 34,
   "id": "6f8874ad-2a7a-4af5-bf68-ac6697670597",
   "metadata": {},
   "outputs": [
    {
     "name": "stdout",
     "output_type": "stream",
     "text": [
      "   Unnamed: 0   airline   flight source_city departure_time stops  \\\n",
      "0           0  SpiceJet  SG-8709       Delhi        Evening  zero   \n",
      "1           1  SpiceJet  SG-8157       Delhi  Early_Morning  zero   \n",
      "2           2   AirAsia   I5-764       Delhi  Early_Morning  zero   \n",
      "3           3   Vistara   UK-995       Delhi        Morning  zero   \n",
      "4           4   Vistara   UK-963       Delhi        Morning  zero   \n",
      "\n",
      "    arrival_time destination_city    class  duration  days_left  price  \n",
      "0          Night           Mumbai  Economy      2.17          1   5953  \n",
      "1        Morning           Mumbai  Economy      2.33          1   5953  \n",
      "2  Early_Morning           Mumbai  Economy      2.17          1   5956  \n",
      "3      Afternoon           Mumbai  Economy      2.25          1   5955  \n",
      "4        Morning           Mumbai  Economy      2.33          1   5955  \n"
     ]
    }
   ],
   "source": [
    "print(df.head())"
   ]
  },
  {
   "cell_type": "code",
   "execution_count": 35,
   "id": "24db7dd2-bdc2-4b50-858e-b33dd9a64758",
   "metadata": {},
   "outputs": [],
   "source": [
    "df=df.drop(columns=['Unnamed: 0'])"
   ]
  },
  {
   "cell_type": "code",
   "execution_count": 36,
   "id": "83dcbc34-e432-4cf2-b035-6a258cf0f70e",
   "metadata": {},
   "outputs": [],
   "source": [
    "df=df.drop(columns=['flight'])"
   ]
  },
  {
   "cell_type": "code",
   "execution_count": 37,
   "id": "d7e2596f-94b0-4924-a6b4-2bf0e78fa4c4",
   "metadata": {},
   "outputs": [
    {
     "data": {
      "text/html": [
       "<div>\n",
       "<style scoped>\n",
       "    .dataframe tbody tr th:only-of-type {\n",
       "        vertical-align: middle;\n",
       "    }\n",
       "\n",
       "    .dataframe tbody tr th {\n",
       "        vertical-align: top;\n",
       "    }\n",
       "\n",
       "    .dataframe thead th {\n",
       "        text-align: right;\n",
       "    }\n",
       "</style>\n",
       "<table border=\"1\" class=\"dataframe\">\n",
       "  <thead>\n",
       "    <tr style=\"text-align: right;\">\n",
       "      <th></th>\n",
       "      <th>airline</th>\n",
       "      <th>source_city</th>\n",
       "      <th>departure_time</th>\n",
       "      <th>stops</th>\n",
       "      <th>arrival_time</th>\n",
       "      <th>destination_city</th>\n",
       "      <th>class</th>\n",
       "      <th>duration</th>\n",
       "      <th>days_left</th>\n",
       "      <th>price</th>\n",
       "    </tr>\n",
       "  </thead>\n",
       "  <tbody>\n",
       "    <tr>\n",
       "      <th>0</th>\n",
       "      <td>SpiceJet</td>\n",
       "      <td>Delhi</td>\n",
       "      <td>Evening</td>\n",
       "      <td>zero</td>\n",
       "      <td>Night</td>\n",
       "      <td>Mumbai</td>\n",
       "      <td>Economy</td>\n",
       "      <td>2.17</td>\n",
       "      <td>1</td>\n",
       "      <td>5953</td>\n",
       "    </tr>\n",
       "    <tr>\n",
       "      <th>1</th>\n",
       "      <td>SpiceJet</td>\n",
       "      <td>Delhi</td>\n",
       "      <td>Early_Morning</td>\n",
       "      <td>zero</td>\n",
       "      <td>Morning</td>\n",
       "      <td>Mumbai</td>\n",
       "      <td>Economy</td>\n",
       "      <td>2.33</td>\n",
       "      <td>1</td>\n",
       "      <td>5953</td>\n",
       "    </tr>\n",
       "    <tr>\n",
       "      <th>2</th>\n",
       "      <td>AirAsia</td>\n",
       "      <td>Delhi</td>\n",
       "      <td>Early_Morning</td>\n",
       "      <td>zero</td>\n",
       "      <td>Early_Morning</td>\n",
       "      <td>Mumbai</td>\n",
       "      <td>Economy</td>\n",
       "      <td>2.17</td>\n",
       "      <td>1</td>\n",
       "      <td>5956</td>\n",
       "    </tr>\n",
       "    <tr>\n",
       "      <th>3</th>\n",
       "      <td>Vistara</td>\n",
       "      <td>Delhi</td>\n",
       "      <td>Morning</td>\n",
       "      <td>zero</td>\n",
       "      <td>Afternoon</td>\n",
       "      <td>Mumbai</td>\n",
       "      <td>Economy</td>\n",
       "      <td>2.25</td>\n",
       "      <td>1</td>\n",
       "      <td>5955</td>\n",
       "    </tr>\n",
       "    <tr>\n",
       "      <th>4</th>\n",
       "      <td>Vistara</td>\n",
       "      <td>Delhi</td>\n",
       "      <td>Morning</td>\n",
       "      <td>zero</td>\n",
       "      <td>Morning</td>\n",
       "      <td>Mumbai</td>\n",
       "      <td>Economy</td>\n",
       "      <td>2.33</td>\n",
       "      <td>1</td>\n",
       "      <td>5955</td>\n",
       "    </tr>\n",
       "    <tr>\n",
       "      <th>...</th>\n",
       "      <td>...</td>\n",
       "      <td>...</td>\n",
       "      <td>...</td>\n",
       "      <td>...</td>\n",
       "      <td>...</td>\n",
       "      <td>...</td>\n",
       "      <td>...</td>\n",
       "      <td>...</td>\n",
       "      <td>...</td>\n",
       "      <td>...</td>\n",
       "    </tr>\n",
       "    <tr>\n",
       "      <th>300148</th>\n",
       "      <td>Vistara</td>\n",
       "      <td>Chennai</td>\n",
       "      <td>Morning</td>\n",
       "      <td>one</td>\n",
       "      <td>Evening</td>\n",
       "      <td>Hyderabad</td>\n",
       "      <td>Business</td>\n",
       "      <td>10.08</td>\n",
       "      <td>49</td>\n",
       "      <td>69265</td>\n",
       "    </tr>\n",
       "    <tr>\n",
       "      <th>300149</th>\n",
       "      <td>Vistara</td>\n",
       "      <td>Chennai</td>\n",
       "      <td>Afternoon</td>\n",
       "      <td>one</td>\n",
       "      <td>Night</td>\n",
       "      <td>Hyderabad</td>\n",
       "      <td>Business</td>\n",
       "      <td>10.42</td>\n",
       "      <td>49</td>\n",
       "      <td>77105</td>\n",
       "    </tr>\n",
       "    <tr>\n",
       "      <th>300150</th>\n",
       "      <td>Vistara</td>\n",
       "      <td>Chennai</td>\n",
       "      <td>Early_Morning</td>\n",
       "      <td>one</td>\n",
       "      <td>Night</td>\n",
       "      <td>Hyderabad</td>\n",
       "      <td>Business</td>\n",
       "      <td>13.83</td>\n",
       "      <td>49</td>\n",
       "      <td>79099</td>\n",
       "    </tr>\n",
       "    <tr>\n",
       "      <th>300151</th>\n",
       "      <td>Vistara</td>\n",
       "      <td>Chennai</td>\n",
       "      <td>Early_Morning</td>\n",
       "      <td>one</td>\n",
       "      <td>Evening</td>\n",
       "      <td>Hyderabad</td>\n",
       "      <td>Business</td>\n",
       "      <td>10.00</td>\n",
       "      <td>49</td>\n",
       "      <td>81585</td>\n",
       "    </tr>\n",
       "    <tr>\n",
       "      <th>300152</th>\n",
       "      <td>Vistara</td>\n",
       "      <td>Chennai</td>\n",
       "      <td>Morning</td>\n",
       "      <td>one</td>\n",
       "      <td>Evening</td>\n",
       "      <td>Hyderabad</td>\n",
       "      <td>Business</td>\n",
       "      <td>10.08</td>\n",
       "      <td>49</td>\n",
       "      <td>81585</td>\n",
       "    </tr>\n",
       "  </tbody>\n",
       "</table>\n",
       "<p>300153 rows × 10 columns</p>\n",
       "</div>"
      ],
      "text/plain": [
       "         airline source_city departure_time stops   arrival_time  \\\n",
       "0       SpiceJet       Delhi        Evening  zero          Night   \n",
       "1       SpiceJet       Delhi  Early_Morning  zero        Morning   \n",
       "2        AirAsia       Delhi  Early_Morning  zero  Early_Morning   \n",
       "3        Vistara       Delhi        Morning  zero      Afternoon   \n",
       "4        Vistara       Delhi        Morning  zero        Morning   \n",
       "...          ...         ...            ...   ...            ...   \n",
       "300148   Vistara     Chennai        Morning   one        Evening   \n",
       "300149   Vistara     Chennai      Afternoon   one          Night   \n",
       "300150   Vistara     Chennai  Early_Morning   one          Night   \n",
       "300151   Vistara     Chennai  Early_Morning   one        Evening   \n",
       "300152   Vistara     Chennai        Morning   one        Evening   \n",
       "\n",
       "       destination_city     class  duration  days_left  price  \n",
       "0                Mumbai   Economy      2.17          1   5953  \n",
       "1                Mumbai   Economy      2.33          1   5953  \n",
       "2                Mumbai   Economy      2.17          1   5956  \n",
       "3                Mumbai   Economy      2.25          1   5955  \n",
       "4                Mumbai   Economy      2.33          1   5955  \n",
       "...                 ...       ...       ...        ...    ...  \n",
       "300148        Hyderabad  Business     10.08         49  69265  \n",
       "300149        Hyderabad  Business     10.42         49  77105  \n",
       "300150        Hyderabad  Business     13.83         49  79099  \n",
       "300151        Hyderabad  Business     10.00         49  81585  \n",
       "300152        Hyderabad  Business     10.08         49  81585  \n",
       "\n",
       "[300153 rows x 10 columns]"
      ]
     },
     "execution_count": 37,
     "metadata": {},
     "output_type": "execute_result"
    }
   ],
   "source": [
    "df"
   ]
  },
  {
   "cell_type": "code",
   "execution_count": 38,
   "id": "11feb410-9cc6-4688-827b-d9a64a401dc9",
   "metadata": {},
   "outputs": [
    {
     "data": {
      "text/html": [
       "<div>\n",
       "<style scoped>\n",
       "    .dataframe tbody tr th:only-of-type {\n",
       "        vertical-align: middle;\n",
       "    }\n",
       "\n",
       "    .dataframe tbody tr th {\n",
       "        vertical-align: top;\n",
       "    }\n",
       "\n",
       "    .dataframe thead th {\n",
       "        text-align: right;\n",
       "    }\n",
       "</style>\n",
       "<table border=\"1\" class=\"dataframe\">\n",
       "  <thead>\n",
       "    <tr style=\"text-align: right;\">\n",
       "      <th></th>\n",
       "      <th>duration</th>\n",
       "      <th>days_left</th>\n",
       "      <th>price</th>\n",
       "    </tr>\n",
       "  </thead>\n",
       "  <tbody>\n",
       "    <tr>\n",
       "      <th>count</th>\n",
       "      <td>300153.000000</td>\n",
       "      <td>300153.000000</td>\n",
       "      <td>300153.000000</td>\n",
       "    </tr>\n",
       "    <tr>\n",
       "      <th>mean</th>\n",
       "      <td>12.221021</td>\n",
       "      <td>26.004751</td>\n",
       "      <td>20889.660523</td>\n",
       "    </tr>\n",
       "    <tr>\n",
       "      <th>std</th>\n",
       "      <td>7.191997</td>\n",
       "      <td>13.561004</td>\n",
       "      <td>22697.767366</td>\n",
       "    </tr>\n",
       "    <tr>\n",
       "      <th>min</th>\n",
       "      <td>0.830000</td>\n",
       "      <td>1.000000</td>\n",
       "      <td>1105.000000</td>\n",
       "    </tr>\n",
       "    <tr>\n",
       "      <th>25%</th>\n",
       "      <td>6.830000</td>\n",
       "      <td>15.000000</td>\n",
       "      <td>4783.000000</td>\n",
       "    </tr>\n",
       "    <tr>\n",
       "      <th>50%</th>\n",
       "      <td>11.250000</td>\n",
       "      <td>26.000000</td>\n",
       "      <td>7425.000000</td>\n",
       "    </tr>\n",
       "    <tr>\n",
       "      <th>75%</th>\n",
       "      <td>16.170000</td>\n",
       "      <td>38.000000</td>\n",
       "      <td>42521.000000</td>\n",
       "    </tr>\n",
       "    <tr>\n",
       "      <th>max</th>\n",
       "      <td>49.830000</td>\n",
       "      <td>49.000000</td>\n",
       "      <td>123071.000000</td>\n",
       "    </tr>\n",
       "  </tbody>\n",
       "</table>\n",
       "</div>"
      ],
      "text/plain": [
       "            duration      days_left          price\n",
       "count  300153.000000  300153.000000  300153.000000\n",
       "mean       12.221021      26.004751   20889.660523\n",
       "std         7.191997      13.561004   22697.767366\n",
       "min         0.830000       1.000000    1105.000000\n",
       "25%         6.830000      15.000000    4783.000000\n",
       "50%        11.250000      26.000000    7425.000000\n",
       "75%        16.170000      38.000000   42521.000000\n",
       "max        49.830000      49.000000  123071.000000"
      ]
     },
     "execution_count": 38,
     "metadata": {},
     "output_type": "execute_result"
    }
   ],
   "source": [
    "df.describe()"
   ]
  },
  {
   "cell_type": "code",
   "execution_count": 39,
   "id": "14bdaf13-ecfa-4f9b-a7c7-f56adfecf050",
   "metadata": {},
   "outputs": [
    {
     "data": {
      "text/plain": [
       "array(['SpiceJet', 'AirAsia', 'Vistara', 'GO_FIRST', 'Indigo',\n",
       "       'Air_India'], dtype=object)"
      ]
     },
     "execution_count": 39,
     "metadata": {},
     "output_type": "execute_result"
    }
   ],
   "source": [
    "df['airline'].unique()"
   ]
  },
  {
   "cell_type": "markdown",
   "id": "57b73fd4-7887-4212-8331-30caa7e0beb4",
   "metadata": {},
   "source": [
    "## Visualising Some Features "
   ]
  },
  {
   "cell_type": "markdown",
   "id": "f6bd569d-024c-45e8-b51b-7353a10435e3",
   "metadata": {},
   "source": [
    "## 1.Number of passengers per airline "
   ]
  },
  {
   "cell_type": "code",
   "execution_count": 42,
   "id": "5a4ffe20-66a2-4970-9907-dae795fb30d9",
   "metadata": {},
   "outputs": [
    {
     "data": {
      "image/png": "[encoded data removed]",
      "text/plain": [
       "<Figure size 640x480 with 1 Axes>"
      ]
     },
     "metadata": {},
     "output_type": "display_data"
    }
   ],
   "source": [
    "airline_counts = df['airline'].value_counts().sort_values(ascending=True)\n",
    "sns.set_style(\"whitegrid\")\n",
    "colors = ['Blue','Skyblue','Yellow','Grey','Red','Green']\n",
    "\n",
    "airline_counts.plot(kind='barh', color=colors)\n",
    "plt.title('Customer Count by Airline')\n",
    "plt.xlabel('Count')\n",
    "plt.ylabel('Airline')\n",
    "plt.show()"
   ]
  },
  {
   "cell_type": "markdown",
   "id": "cd7a1072-b926-488c-beb1-f49dfd552af4",
   "metadata": {},
   "source": [
    "## 2. Average ticket price for each airline"
   ]
  },
  {
   "cell_type": "code",
   "execution_count": 44,
   "id": "40f051eb-4632-4175-aba8-8602091daf22",
   "metadata": {},
   "outputs": [
    {
     "data": {
      "image/png": "[encoded data removed]",
      "text/plain": [
       "<Figure size 640x480 with 1 Axes>"
      ]
     },
     "metadata": {},
     "output_type": "display_data"
    }
   ],
   "source": [
    "avg_price = df.groupby('airline')['price'].mean().reset_index()\n",
    "avg_price = avg_price.sort_values(by='price', ascending=False)\n",
    "\n",
    "sns.barplot(x='airline', y='price', data=avg_price)\n",
    "\n",
    "plt.xlabel('Airline')\n",
    "plt.ylabel('Average Price')\n",
    "plt.title('Avg price for airline')\n",
    "plt.show()"
   ]
  },
  {
   "cell_type": "markdown",
   "id": "3ce48478-b3f0-49f0-afb8-d3b1b400a7fa",
   "metadata": {},
   "source": [
    "## 3. Number of passengers in Business and Economy class"
   ]
  },
  {
   "cell_type": "code",
   "execution_count": 46,
   "id": "2cb9faf8-0655-4240-aad5-b323c923b038",
   "metadata": {},
   "outputs": [
    {
     "data": {
      "image/png": "[encoded data removed]",
      "text/plain": [
       "<Figure size 640x480 with 1 Axes>"
      ]
     },
     "metadata": {},
     "output_type": "display_data"
    }
   ],
   "source": [
    "class_counts = df['class'].value_counts()\n",
    "colors = ['Yellow','Orange']\n",
    "class_counts.plot(kind='pie',colors=colors)\n",
    "\n",
    "plt.title('Number of fliers in Business Vs Economy Class:')\n",
    "plt.ylabel('')\n",
    "plt.show()"
   ]
  },
  {
   "cell_type": "markdown",
   "id": "6e056066-a922-4eaf-9ed5-2e0e815474d0",
   "metadata": {},
   "source": [
    "## 4.Ticket prices based on class "
   ]
  },
  {
   "cell_type": "code",
   "execution_count": 48,
   "id": "a8ed7fd1-d07c-4911-b329-0209f1e12f45",
   "metadata": {},
   "outputs": [
    {
     "data": {
      "image/png": "[encoded data removed]",
      "text/plain": [
       "<Figure size 640x480 with 1 Axes>"
      ]
     },
     "metadata": {},
     "output_type": "display_data"
    }
   ],
   "source": [
    "class_prices = df.groupby('class')['price'].mean()\n",
    "sns.set_style('whitegrid')\n",
    "class_prices.plot(kind='bar',color=['Darkblue','Green'])\n",
    "plt.title('Average Ticket Price by Airplane Class')\n",
    "plt.xlabel('class')\n",
    "plt.ylabel('Price')\n",
    "plt.show()"
   ]
  },
  {
   "cell_type": "markdown",
   "id": "e6cf2c19-8670-4f40-bac7-cca5159861ef",
   "metadata": {},
   "source": [
    "## 5. Ticket prices based on duration of flight"
   ]
  },
  {
   "cell_type": "code",
   "execution_count": 50,
   "id": "12d25730-1946-4feb-96d0-e86d208c086a",
   "metadata": {},
   "outputs": [
    {
     "data": {
      "image/png": "[encoded data removed]",
      "text/plain": [
       "<Figure size 640x480 with 1 Axes>"
      ]
     },
     "metadata": {},
     "output_type": "display_data"
    }
   ],
   "source": [
    "plt.scatter(df['duration'], df['price'], s=2, color='blue')\n",
    "\n",
    "plt.title('Flight Duration vs Ticket Price')\n",
    "plt.xlabel('Duration of flight')\n",
    "plt.ylabel('Ticket Price')\n",
    "plt.show()"
   ]
  },
  {
   "cell_type": "code",
   "execution_count": 51,
   "id": "230beda6-9122-4e77-a2be-542816d7ad1a",
   "metadata": {},
   "outputs": [],
   "source": [
    "## Inference : Most flights are short-duration and relatively low-cost,\n",
    "## while long duration flights tend to be more\n",
    "## expensive with a few high priced outliers"
   ]
  },
  {
   "cell_type": "markdown",
   "id": "caf9a7c5-9a29-4e93-b365-bd95a079cf7a",
   "metadata": {},
   "source": [
    "## 6. Relation between number of stops for a flight and the flight ticket price "
   ]
  },
  {
   "cell_type": "code",
   "execution_count": 53,
   "id": "4e24b664-35db-4a47-8dae-4ed3440810b7",
   "metadata": {},
   "outputs": [
    {
     "data": {
      "image/png": "[encoded data removed]",
      "text/plain": [
       "<Figure size 640x480 with 1 Axes>"
      ]
     },
     "metadata": {},
     "output_type": "display_data"
    }
   ],
   "source": [
    "# Creating a box plot /whisker plot  of number of stops vs ticket price \n",
    "df.boxplot(column='price', by='stops')\n",
    "\n",
    "plt.title('')\n",
    "plt.xlabel('Number of stops')\n",
    "plt.ylabel('Ticket price')\n",
    "plt.show()"
   ]
  },
  {
   "cell_type": "markdown",
   "id": "e094649d-3d8d-49f8-9867-c391f84666ee",
   "metadata": {},
   "source": [
    "## Identifying the Categorical features"
   ]
  },
  {
   "cell_type": "code",
   "execution_count": 55,
   "id": "4b81e41d-4ee2-4acb-820b-15d9a70c2699",
   "metadata": {},
   "outputs": [
    {
     "name": "stdout",
     "output_type": "stream",
     "text": [
      "Number of categorical columns : 7\n",
      "Categorical columns: \n",
      "['airline', 'source_city', 'departure_time', 'stops', 'arrival_time', 'destination_city', 'class']\n"
     ]
    }
   ],
   "source": [
    "# capturing those of type *object*\n",
    "\n",
    "cat_cols = list(df.select_dtypes(include=['object']).columns)\n",
    "print(f\"Number of categorical columns : {len(cat_cols)}\")\n",
    "print(f\"Categorical columns: \\n{cat_cols}\")"
   ]
  },
  {
   "cell_type": "code",
   "execution_count": 56,
   "id": "6d9215c8-3092-42e6-9939-376e5b3f3b12",
   "metadata": {},
   "outputs": [],
   "source": [
    "## Performing target encoding for all categorical varibales :\n",
    "\n"
   ]
  },
  {
   "cell_type": "code",
   "execution_count": 57,
   "id": "817024ad-51cf-44d6-ac1a-3fd449b1eef3",
   "metadata": {},
   "outputs": [
    {
     "name": "stdout",
     "output_type": "stream",
     "text": [
      "Requirement already satisfied: category_encoders in c:\\users\\prana\\anaconda3\\lib\\site-packages (2.8.1)\n",
      "Requirement already satisfied: numpy>=1.14.0 in c:\\users\\prana\\anaconda3\\lib\\site-packages (from category_encoders) (1.26.4)\n",
      "Requirement already satisfied: pandas>=1.0.5 in c:\\users\\prana\\anaconda3\\lib\\site-packages (from category_encoders) (2.2.2)\n",
      "Requirement already satisfied: patsy>=0.5.1 in c:\\users\\prana\\anaconda3\\lib\\site-packages (from category_encoders) (0.5.6)\n",
      "Requirement already satisfied: scikit-learn>=1.6.0 in c:\\users\\prana\\anaconda3\\lib\\site-packages (from category_encoders) (1.7.1)\n",
      "Requirement already satisfied: scipy>=1.0.0 in c:\\users\\prana\\anaconda3\\lib\\site-packages (from category_encoders) (1.13.1)\n",
      "Requirement already satisfied: statsmodels>=0.9.0 in c:\\users\\prana\\anaconda3\\lib\\site-packages (from category_encoders) (0.14.2)\n",
      "Requirement already satisfied: python-dateutil>=2.8.2 in c:\\users\\prana\\anaconda3\\lib\\site-packages (from pandas>=1.0.5->category_encoders) (2.9.0.post0)\n",
      "Requirement already satisfied: pytz>=2020.1 in c:\\users\\prana\\anaconda3\\lib\\site-packages (from pandas>=1.0.5->category_encoders) (2024.1)\n",
      "Requirement already satisfied: tzdata>=2022.7 in c:\\users\\prana\\anaconda3\\lib\\site-packages (from pandas>=1.0.5->category_encoders) (2023.3)\n",
      "Requirement already satisfied: six in c:\\users\\prana\\anaconda3\\lib\\site-packages (from patsy>=0.5.1->category_encoders) (1.16.0)\n",
      "Requirement already satisfied: joblib>=1.2.0 in c:\\users\\prana\\anaconda3\\lib\\site-packages (from scikit-learn>=1.6.0->category_encoders) (1.4.2)\n",
      "Requirement already satisfied: threadpoolctl>=3.1.0 in c:\\users\\prana\\anaconda3\\lib\\site-packages (from scikit-learn>=1.6.0->category_encoders) (3.5.0)\n",
      "Requirement already satisfied: packaging>=21.3 in c:\\users\\prana\\anaconda3\\lib\\site-packages (from statsmodels>=0.9.0->category_encoders) (24.1)\n"
     ]
    }
   ],
   "source": [
    "! pip install category_encoders"
   ]
  },
  {
   "cell_type": "code",
   "execution_count": 58,
   "id": "990c778c-8ea7-421f-afb8-75e47a5d305c",
   "metadata": {},
   "outputs": [
    {
     "name": "stdout",
     "output_type": "stream",
     "text": [
      "Requirement already satisfied: category_encoders in c:\\users\\prana\\anaconda3\\lib\\site-packages (2.8.1)\n",
      "Requirement already satisfied: numpy>=1.14.0 in c:\\users\\prana\\anaconda3\\lib\\site-packages (from category_encoders) (1.26.4)\n",
      "Requirement already satisfied: pandas>=1.0.5 in c:\\users\\prana\\anaconda3\\lib\\site-packages (from category_encoders) (2.2.2)\n",
      "Requirement already satisfied: patsy>=0.5.1 in c:\\users\\prana\\anaconda3\\lib\\site-packages (from category_encoders) (0.5.6)\n",
      "Requirement already satisfied: scikit-learn>=1.6.0 in c:\\users\\prana\\anaconda3\\lib\\site-packages (from category_encoders) (1.7.1)\n",
      "Requirement already satisfied: scipy>=1.0.0 in c:\\users\\prana\\anaconda3\\lib\\site-packages (from category_encoders) (1.13.1)\n",
      "Requirement already satisfied: statsmodels>=0.9.0 in c:\\users\\prana\\anaconda3\\lib\\site-packages (from category_encoders) (0.14.2)\n",
      "Requirement already satisfied: python-dateutil>=2.8.2 in c:\\users\\prana\\anaconda3\\lib\\site-packages (from pandas>=1.0.5->category_encoders) (2.9.0.post0)\n",
      "Requirement already satisfied: pytz>=2020.1 in c:\\users\\prana\\anaconda3\\lib\\site-packages (from pandas>=1.0.5->category_encoders) (2024.1)\n",
      "Requirement already satisfied: tzdata>=2022.7 in c:\\users\\prana\\anaconda3\\lib\\site-packages (from pandas>=1.0.5->category_encoders) (2023.3)\n",
      "Requirement already satisfied: six in c:\\users\\prana\\anaconda3\\lib\\site-packages (from patsy>=0.5.1->category_encoders) (1.16.0)\n",
      "Requirement already satisfied: joblib>=1.2.0 in c:\\users\\prana\\anaconda3\\lib\\site-packages (from scikit-learn>=1.6.0->category_encoders) (1.4.2)\n",
      "Requirement already satisfied: threadpoolctl>=3.1.0 in c:\\users\\prana\\anaconda3\\lib\\site-packages (from scikit-learn>=1.6.0->category_encoders) (3.5.0)\n",
      "Requirement already satisfied: packaging>=21.3 in c:\\users\\prana\\anaconda3\\lib\\site-packages (from statsmodels>=0.9.0->category_encoders) (24.1)\n"
     ]
    }
   ],
   "source": [
    "! pip install --upgrade category_encoders"
   ]
  },
  {
   "cell_type": "code",
   "execution_count": 59,
   "id": "50b236e8-0578-450a-986f-fc6a867936de",
   "metadata": {},
   "outputs": [
    {
     "name": "stdout",
     "output_type": "stream",
     "text": [
      "        airline   source_city  departure_time        stops  arrival_time  \\\n",
      "0   6179.278881  18951.326639    21232.361894  9375.938535  21586.758341   \n",
      "1   6179.278881  18951.326639    20370.676718  9375.938535  22231.076098   \n",
      "2   4091.072742  18951.326639    20370.676718  9375.938535  14993.139521   \n",
      "3  30396.536302  18951.326639    21630.760254  9375.938535  18494.598993   \n",
      "4  30396.536302  18951.326639    21630.760254  9375.938535  22231.076098   \n",
      "\n",
      "   destination_city        class  duration  days_left  price  \n",
      "0      21372.529469  6572.342383      2.17          1   5953  \n",
      "1      21372.529469  6572.342383      2.33          1   5953  \n",
      "2      21372.529469  6572.342383      2.17          1   5956  \n",
      "3      21372.529469  6572.342383      2.25          1   5955  \n",
      "4      21372.529469  6572.342383      2.33          1   5955  \n"
     ]
    }
   ],
   "source": [
    "cat_cols = ['airline', 'source_city', 'departure_time', 'stops',\n",
    "            'arrival_time', 'destination_city', 'class']\n",
    "target='price'\n",
    "def target_encode(df, cat_cols,target):\n",
    "    df_encoded = df.copy()\n",
    "    for col in cat_cols:\n",
    "        mean_map = df_encoded.groupby(col)[target].mean()\n",
    "        df_encoded[col] = df_encoded[col].map(mean_map)\n",
    "    return df_encoded\n",
    "\n",
    "df_encoded = target_encode(df, cat_cols, target)\n",
    "print(df_encoded.head())"
   ]
  },
  {
   "cell_type": "code",
   "execution_count": 60,
   "id": "c2414e04-e184-49c0-8d9c-a022dcd7e57e",
   "metadata": {},
   "outputs": [
    {
     "name": "stdout",
     "output_type": "stream",
     "text": [
      "<class 'pandas.core.frame.DataFrame'>\n",
      "RangeIndex: 300153 entries, 0 to 300152\n",
      "Data columns (total 10 columns):\n",
      " #   Column            Non-Null Count   Dtype  \n",
      "---  ------            --------------   -----  \n",
      " 0   airline           300153 non-null  float64\n",
      " 1   source_city       300153 non-null  float64\n",
      " 2   departure_time    300153 non-null  float64\n",
      " 3   stops             300153 non-null  float64\n",
      " 4   arrival_time      300153 non-null  float64\n",
      " 5   destination_city  300153 non-null  float64\n",
      " 6   class             300153 non-null  float64\n",
      " 7   duration          300153 non-null  float64\n",
      " 8   days_left         300153 non-null  int64  \n",
      " 9   price             300153 non-null  int64  \n",
      "dtypes: float64(8), int64(2)\n",
      "memory usage: 22.9 MB\n"
     ]
    }
   ],
   "source": [
    "df_encoded.info()"
   ]
  },
  {
   "cell_type": "code",
   "execution_count": 61,
   "id": "eeb82d75-d0c9-4867-99ed-198f2ec926b7",
   "metadata": {},
   "outputs": [
    {
     "data": {
      "text/html": [
       "<div>\n",
       "<style scoped>\n",
       "    .dataframe tbody tr th:only-of-type {\n",
       "        vertical-align: middle;\n",
       "    }\n",
       "\n",
       "    .dataframe tbody tr th {\n",
       "        vertical-align: top;\n",
       "    }\n",
       "\n",
       "    .dataframe thead th {\n",
       "        text-align: right;\n",
       "    }\n",
       "</style>\n",
       "<table border=\"1\" class=\"dataframe\">\n",
       "  <thead>\n",
       "    <tr style=\"text-align: right;\">\n",
       "      <th></th>\n",
       "      <th>airline</th>\n",
       "      <th>source_city</th>\n",
       "      <th>departure_time</th>\n",
       "      <th>stops</th>\n",
       "      <th>arrival_time</th>\n",
       "      <th>destination_city</th>\n",
       "      <th>class</th>\n",
       "      <th>duration</th>\n",
       "      <th>days_left</th>\n",
       "      <th>price</th>\n",
       "    </tr>\n",
       "  </thead>\n",
       "  <tbody>\n",
       "    <tr>\n",
       "      <th>0</th>\n",
       "      <td>6179.278881</td>\n",
       "      <td>18951.326639</td>\n",
       "      <td>21232.361894</td>\n",
       "      <td>9375.938535</td>\n",
       "      <td>21586.758341</td>\n",
       "      <td>21372.529469</td>\n",
       "      <td>6572.342383</td>\n",
       "      <td>2.17</td>\n",
       "      <td>1</td>\n",
       "      <td>5953</td>\n",
       "    </tr>\n",
       "    <tr>\n",
       "      <th>1</th>\n",
       "      <td>6179.278881</td>\n",
       "      <td>18951.326639</td>\n",
       "      <td>20370.676718</td>\n",
       "      <td>9375.938535</td>\n",
       "      <td>22231.076098</td>\n",
       "      <td>21372.529469</td>\n",
       "      <td>6572.342383</td>\n",
       "      <td>2.33</td>\n",
       "      <td>1</td>\n",
       "      <td>5953</td>\n",
       "    </tr>\n",
       "    <tr>\n",
       "      <th>2</th>\n",
       "      <td>4091.072742</td>\n",
       "      <td>18951.326639</td>\n",
       "      <td>20370.676718</td>\n",
       "      <td>9375.938535</td>\n",
       "      <td>14993.139521</td>\n",
       "      <td>21372.529469</td>\n",
       "      <td>6572.342383</td>\n",
       "      <td>2.17</td>\n",
       "      <td>1</td>\n",
       "      <td>5956</td>\n",
       "    </tr>\n",
       "    <tr>\n",
       "      <th>3</th>\n",
       "      <td>30396.536302</td>\n",
       "      <td>18951.326639</td>\n",
       "      <td>21630.760254</td>\n",
       "      <td>9375.938535</td>\n",
       "      <td>18494.598993</td>\n",
       "      <td>21372.529469</td>\n",
       "      <td>6572.342383</td>\n",
       "      <td>2.25</td>\n",
       "      <td>1</td>\n",
       "      <td>5955</td>\n",
       "    </tr>\n",
       "    <tr>\n",
       "      <th>4</th>\n",
       "      <td>30396.536302</td>\n",
       "      <td>18951.326639</td>\n",
       "      <td>21630.760254</td>\n",
       "      <td>9375.938535</td>\n",
       "      <td>22231.076098</td>\n",
       "      <td>21372.529469</td>\n",
       "      <td>6572.342383</td>\n",
       "      <td>2.33</td>\n",
       "      <td>1</td>\n",
       "      <td>5955</td>\n",
       "    </tr>\n",
       "    <tr>\n",
       "      <th>...</th>\n",
       "      <td>...</td>\n",
       "      <td>...</td>\n",
       "      <td>...</td>\n",
       "      <td>...</td>\n",
       "      <td>...</td>\n",
       "      <td>...</td>\n",
       "      <td>...</td>\n",
       "      <td>...</td>\n",
       "      <td>...</td>\n",
       "      <td>...</td>\n",
       "    </tr>\n",
       "    <tr>\n",
       "      <th>300148</th>\n",
       "      <td>30396.536302</td>\n",
       "      <td>21995.339871</td>\n",
       "      <td>21630.760254</td>\n",
       "      <td>22900.992482</td>\n",
       "      <td>23044.371615</td>\n",
       "      <td>20427.661284</td>\n",
       "      <td>52540.081124</td>\n",
       "      <td>10.08</td>\n",
       "      <td>49</td>\n",
       "      <td>69265</td>\n",
       "    </tr>\n",
       "    <tr>\n",
       "      <th>300149</th>\n",
       "      <td>30396.536302</td>\n",
       "      <td>21995.339871</td>\n",
       "      <td>18179.203331</td>\n",
       "      <td>22900.992482</td>\n",
       "      <td>21586.758341</td>\n",
       "      <td>20427.661284</td>\n",
       "      <td>52540.081124</td>\n",
       "      <td>10.42</td>\n",
       "      <td>49</td>\n",
       "      <td>77105</td>\n",
       "    </tr>\n",
       "    <tr>\n",
       "      <th>300150</th>\n",
       "      <td>30396.536302</td>\n",
       "      <td>21995.339871</td>\n",
       "      <td>20370.676718</td>\n",
       "      <td>22900.992482</td>\n",
       "      <td>21586.758341</td>\n",
       "      <td>20427.661284</td>\n",
       "      <td>52540.081124</td>\n",
       "      <td>13.83</td>\n",
       "      <td>49</td>\n",
       "      <td>79099</td>\n",
       "    </tr>\n",
       "    <tr>\n",
       "      <th>300151</th>\n",
       "      <td>30396.536302</td>\n",
       "      <td>21995.339871</td>\n",
       "      <td>20370.676718</td>\n",
       "      <td>22900.992482</td>\n",
       "      <td>23044.371615</td>\n",
       "      <td>20427.661284</td>\n",
       "      <td>52540.081124</td>\n",
       "      <td>10.00</td>\n",
       "      <td>49</td>\n",
       "      <td>81585</td>\n",
       "    </tr>\n",
       "    <tr>\n",
       "      <th>300152</th>\n",
       "      <td>30396.536302</td>\n",
       "      <td>21995.339871</td>\n",
       "      <td>21630.760254</td>\n",
       "      <td>22900.992482</td>\n",
       "      <td>23044.371615</td>\n",
       "      <td>20427.661284</td>\n",
       "      <td>52540.081124</td>\n",
       "      <td>10.08</td>\n",
       "      <td>49</td>\n",
       "      <td>81585</td>\n",
       "    </tr>\n",
       "  </tbody>\n",
       "</table>\n",
       "<p>300153 rows × 10 columns</p>\n",
       "</div>"
      ],
      "text/plain": [
       "             airline   source_city  departure_time         stops  \\\n",
       "0        6179.278881  18951.326639    21232.361894   9375.938535   \n",
       "1        6179.278881  18951.326639    20370.676718   9375.938535   \n",
       "2        4091.072742  18951.326639    20370.676718   9375.938535   \n",
       "3       30396.536302  18951.326639    21630.760254   9375.938535   \n",
       "4       30396.536302  18951.326639    21630.760254   9375.938535   \n",
       "...              ...           ...             ...           ...   \n",
       "300148  30396.536302  21995.339871    21630.760254  22900.992482   \n",
       "300149  30396.536302  21995.339871    18179.203331  22900.992482   \n",
       "300150  30396.536302  21995.339871    20370.676718  22900.992482   \n",
       "300151  30396.536302  21995.339871    20370.676718  22900.992482   \n",
       "300152  30396.536302  21995.339871    21630.760254  22900.992482   \n",
       "\n",
       "        arrival_time  destination_city         class  duration  days_left  \\\n",
       "0       21586.758341      21372.529469   6572.342383      2.17          1   \n",
       "1       22231.076098      21372.529469   6572.342383      2.33          1   \n",
       "2       14993.139521      21372.529469   6572.342383      2.17          1   \n",
       "3       18494.598993      21372.529469   6572.342383      2.25          1   \n",
       "4       22231.076098      21372.529469   6572.342383      2.33          1   \n",
       "...              ...               ...           ...       ...        ...   \n",
       "300148  23044.371615      20427.661284  52540.081124     10.08         49   \n",
       "300149  21586.758341      20427.661284  52540.081124     10.42         49   \n",
       "300150  21586.758341      20427.661284  52540.081124     13.83         49   \n",
       "300151  23044.371615      20427.661284  52540.081124     10.00         49   \n",
       "300152  23044.371615      20427.661284  52540.081124     10.08         49   \n",
       "\n",
       "        price  \n",
       "0        5953  \n",
       "1        5953  \n",
       "2        5956  \n",
       "3        5955  \n",
       "4        5955  \n",
       "...       ...  \n",
       "300148  69265  \n",
       "300149  77105  \n",
       "300150  79099  \n",
       "300151  81585  \n",
       "300152  81585  \n",
       "\n",
       "[300153 rows x 10 columns]"
      ]
     },
     "execution_count": 61,
     "metadata": {},
     "output_type": "execute_result"
    }
   ],
   "source": [
    "df_encoded"
   ]
  },
  {
   "cell_type": "markdown",
   "id": "43b56ad5-9c60-492b-bff2-a205347648eb",
   "metadata": {},
   "source": [
    "## Identifying numerical columns"
   ]
  },
  {
   "cell_type": "code",
   "execution_count": 63,
   "id": "2abe09d0-c11d-4f38-b887-d48c209f6e8f",
   "metadata": {},
   "outputs": [
    {
     "name": "stdout",
     "output_type": "stream",
     "text": [
      "['airline', 'source_city', 'departure_time', 'stops', 'arrival_time', 'destination_city', 'class', 'duration', 'days_left', 'price']\n"
     ]
    }
   ],
   "source": [
    "numeric_cols = df_encoded.select_dtypes(include=['float64', 'int64']).columns.tolist()\n",
    "print(numeric_cols)"
   ]
  },
  {
   "cell_type": "markdown",
   "id": "22980ddf-bf72-48bb-a608-bd1bf9a1a032",
   "metadata": {},
   "source": [
    "## Checking for missing values "
   ]
  },
  {
   "cell_type": "code",
   "execution_count": 65,
   "id": "8feaacc6-9a20-467c-b841-fb57a6f6aa05",
   "metadata": {},
   "outputs": [
    {
     "data": {
      "text/html": [
       "<div>\n",
       "<style scoped>\n",
       "    .dataframe tbody tr th:only-of-type {\n",
       "        vertical-align: middle;\n",
       "    }\n",
       "\n",
       "    .dataframe tbody tr th {\n",
       "        vertical-align: top;\n",
       "    }\n",
       "\n",
       "    .dataframe thead th {\n",
       "        text-align: right;\n",
       "    }\n",
       "</style>\n",
       "<table border=\"1\" class=\"dataframe\">\n",
       "  <thead>\n",
       "    <tr style=\"text-align: right;\">\n",
       "      <th></th>\n",
       "      <th>percentage</th>\n",
       "    </tr>\n",
       "  </thead>\n",
       "  <tbody>\n",
       "  </tbody>\n",
       "</table>\n",
       "</div>"
      ],
      "text/plain": [
       "Empty DataFrame\n",
       "Columns: [percentage]\n",
       "Index: []"
      ]
     },
     "execution_count": 65,
     "metadata": {},
     "output_type": "execute_result"
    }
   ],
   "source": [
    "features_with_na = [col for col in df.columns if df[col].isna().sum() > 0]\n",
    "\n",
    "missing_values_df = pd.DataFrame(df[features_with_na].isnull().mean().sort_values(ascending=False),columns=['percentage'])\n",
    "missing_values_df.head(10)"
   ]
  },
  {
   "cell_type": "markdown",
   "id": "18187ea2-d74c-4e5e-814b-9b0d83db1def",
   "metadata": {},
   "source": [
    "### This dataset has no values "
   ]
  },
  {
   "cell_type": "markdown",
   "id": "acbf9583-06f5-4757-9df8-49f783a4e7a7",
   "metadata": {},
   "source": [
    "# Scaling data"
   ]
  },
  {
   "cell_type": "code",
   "execution_count": 68,
   "id": "5bee2fd7-fb1f-4906-a019-b36ed3cdb936",
   "metadata": {},
   "outputs": [
    {
     "data": {
      "text/html": [
       "<div>\n",
       "<style scoped>\n",
       "    .dataframe tbody tr th:only-of-type {\n",
       "        vertical-align: middle;\n",
       "    }\n",
       "\n",
       "    .dataframe tbody tr th {\n",
       "        vertical-align: top;\n",
       "    }\n",
       "\n",
       "    .dataframe thead th {\n",
       "        text-align: right;\n",
       "    }\n",
       "</style>\n",
       "<table border=\"1\" class=\"dataframe\">\n",
       "  <thead>\n",
       "    <tr style=\"text-align: right;\">\n",
       "      <th></th>\n",
       "      <th>airline</th>\n",
       "      <th>source_city</th>\n",
       "      <th>departure_time</th>\n",
       "      <th>stops</th>\n",
       "      <th>arrival_time</th>\n",
       "      <th>destination_city</th>\n",
       "      <th>class</th>\n",
       "      <th>duration</th>\n",
       "      <th>days_left</th>\n",
       "      <th>price</th>\n",
       "    </tr>\n",
       "  </thead>\n",
       "  <tbody>\n",
       "    <tr>\n",
       "      <th>0</th>\n",
       "      <td>0.079383</td>\n",
       "      <td>0.0</td>\n",
       "      <td>0.867088</td>\n",
       "      <td>0.0</td>\n",
       "      <td>0.876048</td>\n",
       "      <td>0.833363</td>\n",
       "      <td>0.0</td>\n",
       "      <td>0.027347</td>\n",
       "      <td>0.0</td>\n",
       "      <td>0.039749</td>\n",
       "    </tr>\n",
       "    <tr>\n",
       "      <th>1</th>\n",
       "      <td>0.079383</td>\n",
       "      <td>0.0</td>\n",
       "      <td>0.804496</td>\n",
       "      <td>0.0</td>\n",
       "      <td>0.930839</td>\n",
       "      <td>0.833363</td>\n",
       "      <td>0.0</td>\n",
       "      <td>0.030612</td>\n",
       "      <td>0.0</td>\n",
       "      <td>0.039749</td>\n",
       "    </tr>\n",
       "    <tr>\n",
       "      <th>2</th>\n",
       "      <td>0.000000</td>\n",
       "      <td>0.0</td>\n",
       "      <td>0.804496</td>\n",
       "      <td>0.0</td>\n",
       "      <td>0.315340</td>\n",
       "      <td>0.833363</td>\n",
       "      <td>0.0</td>\n",
       "      <td>0.027347</td>\n",
       "      <td>0.0</td>\n",
       "      <td>0.039773</td>\n",
       "    </tr>\n",
       "    <tr>\n",
       "      <th>3</th>\n",
       "      <td>1.000000</td>\n",
       "      <td>0.0</td>\n",
       "      <td>0.896027</td>\n",
       "      <td>0.0</td>\n",
       "      <td>0.613097</td>\n",
       "      <td>0.833363</td>\n",
       "      <td>0.0</td>\n",
       "      <td>0.028980</td>\n",
       "      <td>0.0</td>\n",
       "      <td>0.039765</td>\n",
       "    </tr>\n",
       "    <tr>\n",
       "      <th>4</th>\n",
       "      <td>1.000000</td>\n",
       "      <td>0.0</td>\n",
       "      <td>0.896027</td>\n",
       "      <td>0.0</td>\n",
       "      <td>0.930839</td>\n",
       "      <td>0.833363</td>\n",
       "      <td>0.0</td>\n",
       "      <td>0.030612</td>\n",
       "      <td>0.0</td>\n",
       "      <td>0.039765</td>\n",
       "    </tr>\n",
       "  </tbody>\n",
       "</table>\n",
       "</div>"
      ],
      "text/plain": [
       "    airline  source_city  departure_time  stops  arrival_time  \\\n",
       "0  0.079383          0.0        0.867088    0.0      0.876048   \n",
       "1  0.079383          0.0        0.804496    0.0      0.930839   \n",
       "2  0.000000          0.0        0.804496    0.0      0.315340   \n",
       "3  1.000000          0.0        0.896027    0.0      0.613097   \n",
       "4  1.000000          0.0        0.896027    0.0      0.930839   \n",
       "\n",
       "   destination_city  class  duration  days_left     price  \n",
       "0          0.833363    0.0  0.027347        0.0  0.039749  \n",
       "1          0.833363    0.0  0.030612        0.0  0.039749  \n",
       "2          0.833363    0.0  0.027347        0.0  0.039773  \n",
       "3          0.833363    0.0  0.028980        0.0  0.039765  \n",
       "4          0.833363    0.0  0.030612        0.0  0.039765  "
      ]
     },
     "execution_count": 68,
     "metadata": {},
     "output_type": "execute_result"
    }
   ],
   "source": [
    "# Min Max Scaler : transformation of data\n",
    "\n",
    "names = df.columns\n",
    "indexes = df.index\n",
    "sc = MinMaxScaler((0,1))\n",
    "df = sc.fit_transform(df_encoded)\n",
    "data_scaled = pd.DataFrame(df, columns=names, index=indexes)\n",
    "data_scaled.head()"
   ]
  },
  {
   "cell_type": "markdown",
   "id": "961fccbe-048c-4d4b-bfc6-b98dcef85771",
   "metadata": {},
   "source": [
    "## Setting our target varibales "
   ]
  },
  {
   "cell_type": "code",
   "execution_count": 71,
   "id": "6d2a1557-3ca7-4851-bce7-36a6a8bf28b3",
   "metadata": {},
   "outputs": [
    {
     "data": {
      "text/plain": [
       "Index(['airline', 'source_city', 'departure_time', 'stops', 'arrival_time',\n",
       "       'destination_city', 'class', 'duration', 'days_left', 'price'],\n",
       "      dtype='object')"
      ]
     },
     "execution_count": 71,
     "metadata": {},
     "output_type": "execute_result"
    }
   ],
   "source": [
    "data_scaled.columns"
   ]
  },
  {
   "cell_type": "code",
   "execution_count": 79,
   "id": "79bac5bc-55be-4de6-bb98-c2115a4171be",
   "metadata": {},
   "outputs": [],
   "source": [
    "x = data_scaled[['airline', 'source_city', 'departure_time', 'stops', 'arrival_time',\n",
    "       'destination_city', 'class', 'duration', 'days_left']]"
   ]
  },
  {
   "cell_type": "code",
   "execution_count": 81,
   "id": "502cc025-be4d-4709-800b-8083dcc6604a",
   "metadata": {},
   "outputs": [],
   "source": [
    "y = data_scaled['price']"
   ]
  },
  {
   "cell_type": "code",
   "execution_count": 83,
   "id": "808cefea-d6c5-4706-ad5f-4cd6ecfa1ebb",
   "metadata": {},
   "outputs": [
    {
     "data": {
      "text/html": [
       "<div>\n",
       "<style scoped>\n",
       "    .dataframe tbody tr th:only-of-type {\n",
       "        vertical-align: middle;\n",
       "    }\n",
       "\n",
       "    .dataframe tbody tr th {\n",
       "        vertical-align: top;\n",
       "    }\n",
       "\n",
       "    .dataframe thead th {\n",
       "        text-align: right;\n",
       "    }\n",
       "</style>\n",
       "<table border=\"1\" class=\"dataframe\">\n",
       "  <thead>\n",
       "    <tr style=\"text-align: right;\">\n",
       "      <th></th>\n",
       "      <th>airline</th>\n",
       "      <th>source_city</th>\n",
       "      <th>departure_time</th>\n",
       "      <th>stops</th>\n",
       "      <th>arrival_time</th>\n",
       "      <th>destination_city</th>\n",
       "      <th>class</th>\n",
       "      <th>duration</th>\n",
       "      <th>days_left</th>\n",
       "    </tr>\n",
       "  </thead>\n",
       "  <tbody>\n",
       "    <tr>\n",
       "      <th>0</th>\n",
       "      <td>0.079383</td>\n",
       "      <td>0.0</td>\n",
       "      <td>0.867088</td>\n",
       "      <td>0.0</td>\n",
       "      <td>0.876048</td>\n",
       "      <td>0.833363</td>\n",
       "      <td>0.0</td>\n",
       "      <td>0.027347</td>\n",
       "      <td>0.0</td>\n",
       "    </tr>\n",
       "    <tr>\n",
       "      <th>1</th>\n",
       "      <td>0.079383</td>\n",
       "      <td>0.0</td>\n",
       "      <td>0.804496</td>\n",
       "      <td>0.0</td>\n",
       "      <td>0.930839</td>\n",
       "      <td>0.833363</td>\n",
       "      <td>0.0</td>\n",
       "      <td>0.030612</td>\n",
       "      <td>0.0</td>\n",
       "    </tr>\n",
       "    <tr>\n",
       "      <th>2</th>\n",
       "      <td>0.000000</td>\n",
       "      <td>0.0</td>\n",
       "      <td>0.804496</td>\n",
       "      <td>0.0</td>\n",
       "      <td>0.315340</td>\n",
       "      <td>0.833363</td>\n",
       "      <td>0.0</td>\n",
       "      <td>0.027347</td>\n",
       "      <td>0.0</td>\n",
       "    </tr>\n",
       "    <tr>\n",
       "      <th>3</th>\n",
       "      <td>1.000000</td>\n",
       "      <td>0.0</td>\n",
       "      <td>0.896027</td>\n",
       "      <td>0.0</td>\n",
       "      <td>0.613097</td>\n",
       "      <td>0.833363</td>\n",
       "      <td>0.0</td>\n",
       "      <td>0.028980</td>\n",
       "      <td>0.0</td>\n",
       "    </tr>\n",
       "    <tr>\n",
       "      <th>4</th>\n",
       "      <td>1.000000</td>\n",
       "      <td>0.0</td>\n",
       "      <td>0.896027</td>\n",
       "      <td>0.0</td>\n",
       "      <td>0.930839</td>\n",
       "      <td>0.833363</td>\n",
       "      <td>0.0</td>\n",
       "      <td>0.030612</td>\n",
       "      <td>0.0</td>\n",
       "    </tr>\n",
       "    <tr>\n",
       "      <th>...</th>\n",
       "      <td>...</td>\n",
       "      <td>...</td>\n",
       "      <td>...</td>\n",
       "      <td>...</td>\n",
       "      <td>...</td>\n",
       "      <td>...</td>\n",
       "      <td>...</td>\n",
       "      <td>...</td>\n",
       "      <td>...</td>\n",
       "    </tr>\n",
       "    <tr>\n",
       "      <th>300148</th>\n",
       "      <td>1.000000</td>\n",
       "      <td>1.0</td>\n",
       "      <td>0.896027</td>\n",
       "      <td>1.0</td>\n",
       "      <td>1.000000</td>\n",
       "      <td>0.565147</td>\n",
       "      <td>1.0</td>\n",
       "      <td>0.188776</td>\n",
       "      <td>1.0</td>\n",
       "    </tr>\n",
       "    <tr>\n",
       "      <th>300149</th>\n",
       "      <td>1.000000</td>\n",
       "      <td>1.0</td>\n",
       "      <td>0.645311</td>\n",
       "      <td>1.0</td>\n",
       "      <td>0.876048</td>\n",
       "      <td>0.565147</td>\n",
       "      <td>1.0</td>\n",
       "      <td>0.195714</td>\n",
       "      <td>1.0</td>\n",
       "    </tr>\n",
       "    <tr>\n",
       "      <th>300150</th>\n",
       "      <td>1.000000</td>\n",
       "      <td>1.0</td>\n",
       "      <td>0.804496</td>\n",
       "      <td>1.0</td>\n",
       "      <td>0.876048</td>\n",
       "      <td>0.565147</td>\n",
       "      <td>1.0</td>\n",
       "      <td>0.265306</td>\n",
       "      <td>1.0</td>\n",
       "    </tr>\n",
       "    <tr>\n",
       "      <th>300151</th>\n",
       "      <td>1.000000</td>\n",
       "      <td>1.0</td>\n",
       "      <td>0.804496</td>\n",
       "      <td>1.0</td>\n",
       "      <td>1.000000</td>\n",
       "      <td>0.565147</td>\n",
       "      <td>1.0</td>\n",
       "      <td>0.187143</td>\n",
       "      <td>1.0</td>\n",
       "    </tr>\n",
       "    <tr>\n",
       "      <th>300152</th>\n",
       "      <td>1.000000</td>\n",
       "      <td>1.0</td>\n",
       "      <td>0.896027</td>\n",
       "      <td>1.0</td>\n",
       "      <td>1.000000</td>\n",
       "      <td>0.565147</td>\n",
       "      <td>1.0</td>\n",
       "      <td>0.188776</td>\n",
       "      <td>1.0</td>\n",
       "    </tr>\n",
       "  </tbody>\n",
       "</table>\n",
       "<p>300153 rows × 9 columns</p>\n",
       "</div>"
      ],
      "text/plain": [
       "         airline  source_city  departure_time  stops  arrival_time  \\\n",
       "0       0.079383          0.0        0.867088    0.0      0.876048   \n",
       "1       0.079383          0.0        0.804496    0.0      0.930839   \n",
       "2       0.000000          0.0        0.804496    0.0      0.315340   \n",
       "3       1.000000          0.0        0.896027    0.0      0.613097   \n",
       "4       1.000000          0.0        0.896027    0.0      0.930839   \n",
       "...          ...          ...             ...    ...           ...   \n",
       "300148  1.000000          1.0        0.896027    1.0      1.000000   \n",
       "300149  1.000000          1.0        0.645311    1.0      0.876048   \n",
       "300150  1.000000          1.0        0.804496    1.0      0.876048   \n",
       "300151  1.000000          1.0        0.804496    1.0      1.000000   \n",
       "300152  1.000000          1.0        0.896027    1.0      1.000000   \n",
       "\n",
       "        destination_city  class  duration  days_left  \n",
       "0               0.833363    0.0  0.027347        0.0  \n",
       "1               0.833363    0.0  0.030612        0.0  \n",
       "2               0.833363    0.0  0.027347        0.0  \n",
       "3               0.833363    0.0  0.028980        0.0  \n",
       "4               0.833363    0.0  0.030612        0.0  \n",
       "...                  ...    ...       ...        ...  \n",
       "300148          0.565147    1.0  0.188776        1.0  \n",
       "300149          0.565147    1.0  0.195714        1.0  \n",
       "300150          0.565147    1.0  0.265306        1.0  \n",
       "300151          0.565147    1.0  0.187143        1.0  \n",
       "300152          0.565147    1.0  0.188776        1.0  \n",
       "\n",
       "[300153 rows x 9 columns]"
      ]
     },
     "execution_count": 83,
     "metadata": {},
     "output_type": "execute_result"
    }
   ],
   "source": [
    "x"
   ]
  },
  {
   "cell_type": "code",
   "execution_count": 85,
   "id": "27e5255f-cc3a-4683-93d8-48621d8ba7d8",
   "metadata": {},
   "outputs": [
    {
     "data": {
      "text/plain": [
       "0         0.039749\n",
       "1         0.039749\n",
       "2         0.039773\n",
       "3         0.039765\n",
       "4         0.039765\n",
       "            ...   \n",
       "300148    0.558844\n",
       "300149    0.623124\n",
       "300150    0.639473\n",
       "300151    0.659856\n",
       "300152    0.659856\n",
       "Name: price, Length: 300153, dtype: float64"
      ]
     },
     "execution_count": 85,
     "metadata": {},
     "output_type": "execute_result"
    }
   ],
   "source": [
    "y"
   ]
  },
  {
   "cell_type": "markdown",
   "id": "a4895b5a-0c88-4ea7-a143-70d8778bc8dc",
   "metadata": {},
   "source": [
    "# Feature Engineering "
   ]
  },
  {
   "cell_type": "markdown",
   "id": "1ea2b3c3-acf6-4a58-a25e-58c67273b737",
   "metadata": {},
   "source": [
    "## * Pearsons correlation "
   ]
  },
  {
   "cell_type": "code",
   "execution_count": 89,
   "id": "899da0c3-ddb7-4d70-9fe0-4830915de2aa",
   "metadata": {},
   "outputs": [
    {
     "data": {
      "image/png": "[encoded data removed]",
      "text/plain": [
       "<Figure size 2500x1000 with 2 Axes>"
      ]
     },
     "metadata": {},
     "output_type": "display_data"
    }
   ],
   "source": [
    "plt.figure(figsize=(25,10))\n",
    "cor = data_scaled.corr()\n",
    "sns.heatmap(cor, annot=True, cmap=plt.cm.Reds)\n",
    "plt.show()"
   ]
  },
  {
   "cell_type": "code",
   "execution_count": 93,
   "id": "5cbc89f7-5574-45cf-a446-0db6154fc7ed",
   "metadata": {},
   "outputs": [
    {
     "data": {
      "text/plain": [
       "airline             0.471865\n",
       "source_city         0.049099\n",
       "departure_time      0.072732\n",
       "stops               0.203405\n",
       "arrival_time        0.128853\n",
       "destination_city    0.056619\n",
       "class               0.937860\n",
       "duration            0.204222\n",
       "days_left           0.091949\n",
       "price               1.000000\n",
       "Name: price, dtype: float64"
      ]
     },
     "execution_count": 93,
     "metadata": {},
     "output_type": "execute_result"
    }
   ],
   "source": [
    "# Correlation with target variable price \n",
    "cor_target = abs(cor['price'])\n",
    "\n",
    "relevant_feature = cor_target\n",
    "relevant_feature"
   ]
  },
  {
   "cell_type": "markdown",
   "id": "e0c693b7-b74d-4f35-a5ce-b2212b914d07",
   "metadata": {},
   "source": [
    "### *According to Pearsons correlation , our top 4 relevant features are:- class, airline, stops and duration "
   ]
  },
  {
   "cell_type": "markdown",
   "id": "fdedc80b-4fe3-421b-9fbb-5e0d76e7d313",
   "metadata": {},
   "source": [
    "## * KBest selection "
   ]
  },
  {
   "cell_type": "code",
   "execution_count": 101,
   "id": "624a09bf-34d1-429e-8e5f-0161e0a30acb",
   "metadata": {},
   "outputs": [
    {
     "name": "stdout",
     "output_type": "stream",
     "text": [
      "Index(['airline', 'source_city', 'destination_city', 'class'], dtype='object')\n"
     ]
    }
   ],
   "source": [
    "from sklearn.feature_selection import SelectKBest, f_classif\n",
    "\n",
    "selector = SelectKBest(f_classif, k=4)\n",
    "X_important = selector.fit_transform(x, y)\n",
    "\n",
    "mask = selector.get_support()\n",
    "\n",
    "important_feature_names = x.columns[mask]\n",
    "\n",
    "print(important_feature_names)"
   ]
  },
  {
   "cell_type": "markdown",
   "id": "f33cb7d8-cfd9-4d7f-95b0-ec4333341960",
   "metadata": {},
   "source": [
    "### According to KBest featurs , our important features are 'airline','source_city','destination_city','class'"
   ]
  },
  {
   "cell_type": "markdown",
   "id": "3a04c9f9-752c-4be0-bf09-471f64ac04b3",
   "metadata": {},
   "source": [
    "# Model Building "
   ]
  },
  {
   "cell_type": "markdown",
   "id": "fbe1385a-f352-4c50-af01-360074b4a61b",
   "metadata": {},
   "source": [
    "## *Split the data into train and test "
   ]
  },
  {
   "cell_type": "code",
   "execution_count": 110,
   "id": "c231d976-db74-44a8-94ef-fd8450cda2db",
   "metadata": {},
   "outputs": [],
   "source": [
    "from sklearn.model_selection import train_test_split\n",
    "\n",
    "X_train, X_test, y_train, y_test = train_test_split(x,y, test_size=0.2, random_state=42)"
   ]
  },
  {
   "cell_type": "markdown",
   "id": "48b59f15-6007-4689-9953-1bc108918fcc",
   "metadata": {},
   "source": [
    "# Linear Regression"
   ]
  },
  {
   "cell_type": "code",
   "execution_count": 117,
   "id": "a0180759-74d9-481f-9fe7-80ce0c2d0a4e",
   "metadata": {},
   "outputs": [
    {
     "name": "stdout",
     "output_type": "stream",
     "text": [
      "Accuracy - Train: 0.902068821024104, Test: 0.902090866012934\n",
      "MSE - Train: 0.003391142206285722, Test: 0.003392808775216637\n",
      "R2 - Train: 0.902068821024104, Test: 0.902090866012934\n"
     ]
    }
   ],
   "source": [
    "from sklearn.linear_model import LinearRegression\n",
    "from sklearn.metrics import mean_squared_error, r2_score\n",
    "\n",
    "reg = LinearRegression().fit(X_train, y_train)\n",
    "\n",
    "y_pred_train = reg.predict(X_train)\n",
    "y_pred_test = reg.predict(X_test)\n",
    "\n",
    "accuracy_train = reg.score(X_train, y_train)\n",
    "mse_train = mean_squared_error(y_train, y_pred_train)\n",
    "r2_train = r2_score(y_train, y_pred_train)\n",
    "\n",
    "accuracy_test = reg.score(X_test, y_test)\n",
    "mse_test = mean_squared_error(y_test, y_pred_test)\n",
    "r2_test = r2_score(y_test, y_pred_test)\n",
    "\n",
    "print(\"Accuracy - Train: {}, Test: {}\".format(accuracy_train, accuracy_test))\n",
    "print(\"MSE - Train: {}, Test: {}\".format(mse_train, mse_test))\n",
    "print(\"R2 - Train: {}, Test: {}\".format(r2_train, r2_test))"
   ]
  },
  {
   "cell_type": "markdown",
   "id": "2a8227b9-de25-4168-8e3d-0f662698e58b",
   "metadata": {},
   "source": [
    "## * Accuracy of Linear Regression is 90.20%"
   ]
  },
  {
   "cell_type": "markdown",
   "id": "e9f32eba-4818-4401-888f-f33e59d9b076",
   "metadata": {},
   "source": [
    "# Decision Tree "
   ]
  },
  {
   "cell_type": "code",
   "execution_count": 128,
   "id": "64b45a7c-0d60-4de0-af77-6a2f1720b22f",
   "metadata": {},
   "outputs": [
    {
     "name": "stdout",
     "output_type": "stream",
     "text": [
      "Accuracy - Train: 0.9992865963348827, Test: 0.9761391287007689\n",
      "MSE - Train: 2.4703606187499706e-05, Test: 0.0008268418913708326\n",
      "R2 - Train: 0.9992865963348827, Test: 0.9761391287007689\n"
     ]
    }
   ],
   "source": [
    "from sklearn.tree import DecisionTreeRegressor\n",
    "from sklearn.metrics import mean_squared_error, r2_score\n",
    "\n",
    "dt = DecisionTreeRegressor(random_state=42)\n",
    "dt.fit(X_train, y_train)\n",
    "\n",
    "# Predict the values for the training and testing sets \n",
    "y_pred_train = dt.predict(X_train)\n",
    "y_pred_test = dt.predict(X_test)\n",
    "\n",
    "# compute the accuracy, MSE, and R2 for the training set \n",
    "accuracy_train = dt.score(X_train, y_train)\n",
    "mse_train = mean_squared_error(y_train, y_pred_train)\n",
    "r2_train = r2_score(y_train, y_pred_train)\n",
    "\n",
    "# compute the accuracy, MSE and R2 for the testing set \n",
    "accuracy_test = dt.score(X_test, y_test)\n",
    "mse_test = mean_squared_error(y_test, y_pred_test)\n",
    "r2_test = r2_score(y_test, y_pred_test)\n",
    "\n",
    "print(\"Accuracy - Train: {}, Test: {}\".format(accuracy_train, accuracy_test))\n",
    "print(\"MSE - Train: {}, Test: {}\".format(mse_train, mse_test))\n",
    "print(\"R2 - Train: {}, Test: {}\".format(r2_train, r2_test))"
   ]
  },
  {
   "cell_type": "markdown",
   "id": "97c07f44-a21c-4ebb-97f7-9fbfa259dce3",
   "metadata": {},
   "source": [
    "### * Accuracy of Decision Tree is 97.6%"
   ]
  },
  {
   "cell_type": "markdown",
   "id": "ddbcc72d-9fc8-4b92-9ea8-6687d5845b97",
   "metadata": {},
   "source": [
    "# Random Forest"
   ]
  },
  {
   "cell_type": "code",
   "execution_count": 134,
   "id": "c2dbb194-f814-41b2-a827-7b4daefd5ece",
   "metadata": {},
   "outputs": [
    {
     "name": "stdout",
     "output_type": "stream",
     "text": [
      "Accuracy - Train: 0.9968504314180532, Test: 0.9839167010274774\n",
      "MSE - Train: 0.00010906266075342834, Test: 0.0005573285725887021\n",
      "R2 - Train: 0.9968504314180532, Test: 0.9839167010274774\n"
     ]
    }
   ],
   "source": [
    "from sklearn.ensemble import RandomForestRegressor\n",
    "from sklearn.metrics import mean_squared_error, r2_score\n",
    "\n",
    "rf = RandomForestRegressor(n_estimators=10, random_state=42)\n",
    "\n",
    "rf.fit(X_train, y_train)\n",
    "\n",
    "# Predict the values for the trianing and testing sets \n",
    "y_pred_train = rf.predict(X_train)\n",
    "y_pred_test = rf.predict(X_test)\n",
    "\n",
    "# compute the accuracy, MSE and R2 for the training set \n",
    "accuracy_train = rf.score(X_train, y_train)\n",
    "mse_train = mean_squared_error(y_train, y_pred_train)\n",
    "r2_train = r2_score(y_train, y_pred_train)\n",
    "\n",
    "# compute the accuracy, MSe and R2 for the testing set \n",
    "accuracy_test = rf.score(X_test, y_test)\n",
    "mse_test = mean_squared_error(y_test, y_pred_test)\n",
    "r2_test = r2_score(y_test, y_pred_test)\n",
    "\n",
    "print(\"Accuracy - Train: {}, Test: {}\".format(accuracy_train, accuracy_test))\n",
    "print(\"MSE - Train: {}, Test: {}\".format(mse_train, mse_test))\n",
    "print(\"R2 - Train: {}, Test: {}\".format(r2_train, r2_test))"
   ]
  },
  {
   "cell_type": "markdown",
   "id": "d0210cf7-4d45-4409-971a-cc943a1ed201",
   "metadata": {},
   "source": [
    "## * Accuracy of Random Forest is 98.3%"
   ]
  },
  {
   "cell_type": "code",
   "execution_count": 139,
   "id": "eef8ba5a-93ec-46f1-89dc-d57915faf7ec",
   "metadata": {},
   "outputs": [
    {
     "name": "stdout",
     "output_type": "stream",
     "text": [
      "R2 Score: 0.9839167010274774\n"
     ]
    }
   ],
   "source": [
    "from sklearn.metrics import r2_score\n",
    "\n",
    "r2 = r2_score(y_test, y_pred_test)\n",
    "print(\"R2 Score:\", r2)"
   ]
  },
  {
   "cell_type": "code",
   "execution_count": null,
   "id": "478f4028-6ce4-4a86-a6fd-70028f35f34c",
   "metadata": {},
   "outputs": [],
   "source": []
  }
 ],
 "metadata": {
  "kernelspec": {
   "display_name": "Python [conda env:base] *",
   "language": "python",
   "name": "conda-base-py"
  },
  "language_info": {
   "codemirror_mode": {
    "name": "ipython",
    "version": 3
   },
   "file_extension": ".py",
   "mimetype": "text/x-python",
   "name": "python",
   "nbconvert_exporter": "python",
   "pygments_lexer": "ipython3",
   "version": "3.12.7"
  }
 },
 "nbformat": 4,
 "nbformat_minor": 5
}
